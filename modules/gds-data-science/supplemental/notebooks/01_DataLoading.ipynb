{
  "cells": [
    {
      "cell_type": "markdown",
      "metadata": {
        "pycharm": {}
      },
      "source": "# Citation Dataset Loading\n\nIn this notebook you will load the citation dataset into Neo4j."
    },
    {
      "cell_type": "markdown",
      "metadata": {
        "pycharm": {}
      },
      "source": "You will start by importing py2neo library which you will use to import the data into Neo4j. py2neo is a client library and toolkit for working with Neo4j from within Python applications. It is well suited for Data Science workflows and has great integration with other Python Data Science tools."
    },
    {
      "cell_type": "code",
      "execution_count": 1,
      "metadata": {
        "pycharm": {}
      },
      "outputs": [],
      "source": [
        "from py2neo import Graph"
      ]
    },
    {
      "cell_type": "code",
      "execution_count": 8,
      "metadata": {
        "pycharm": {}
      },
      "outputs": [],
      "source": "# Change the line of code below to use the credentials you tested in the previous notebook.\n# graph \u003d Graph(\"\u003cBolt URL\u003e\", auth\u003d(\"neo4j\", \"\u003cPassword\u003e\")) \n \ngraph \u003d Graph(\"bolt://localhost:7687\", auth\u003d(\"neo4j\", \"letmein\"))"
    },
    {
      "cell_type": "markdown",
      "metadata": {
        "pycharm": {}
      },
      "source": "## Create Constraints\n\nFirst, create some constraints to make sure you don\u0027t import duplicate data:"
    },
    {
      "cell_type": "code",
      "execution_count": 3,
      "metadata": {
        "pycharm": {}
      },
      "outputs": [
        {
          "data": {
            "text/plain": [
              "constraints_added: 1\n",
              "constraints_removed: 0\n",
              "contained_updates: True\n",
              "indexes_added: 0\n",
              "indexes_removed: 0\n",
              "labels_added: 0\n",
              "labels_removed: 0\n",
              "nodes_created: 0\n",
              "nodes_deleted: 0\n",
              "properties_set: 0\n",
              "relationships_created: 0\n",
              "relationships_deleted: 0"
            ]
          },
          "metadata": {},
          "output_type": "display_data"
        },
        {
          "data": {
            "text/plain": [
              "constraints_added: 1\n",
              "constraints_removed: 0\n",
              "contained_updates: True\n",
              "indexes_added: 0\n",
              "indexes_removed: 0\n",
              "labels_added: 0\n",
              "labels_removed: 0\n",
              "nodes_created: 0\n",
              "nodes_deleted: 0\n",
              "properties_set: 0\n",
              "relationships_created: 0\n",
              "relationships_deleted: 0"
            ]
          },
          "metadata": {},
          "output_type": "display_data"
        },
        {
          "data": {
            "text/plain": [
              "constraints_added: 1\n",
              "constraints_removed: 0\n",
              "contained_updates: True\n",
              "indexes_added: 0\n",
              "indexes_removed: 0\n",
              "labels_added: 0\n",
              "labels_removed: 0\n",
              "nodes_created: 0\n",
              "nodes_deleted: 0\n",
              "properties_set: 0\n",
              "relationships_created: 0\n",
              "relationships_deleted: 0"
            ]
          },
          "metadata": {},
          "output_type": "display_data"
        }
      ],
      "source": [
        "display(graph.run(\"CREATE CONSTRAINT ON (a:Article) ASSERT a.index IS UNIQUE\").stats())\n",
        "display(graph.run(\"CREATE CONSTRAINT ON (a:Author) ASSERT a.name IS UNIQUE\").stats())\n",
        "display(graph.run(\"CREATE CONSTRAINT ON (v:Venue) ASSERT v.name IS UNIQUE\").stats())"
      ]
    },
    {
      "cell_type": "markdown",
      "metadata": {
        "pycharm": {}
      },
      "source": "## Loading the data\n\nNext, load the data into the database. You will create nodes for Articles, Venues, and Authors.\n"
    },
    {
      "cell_type": "code",
      "execution_count": 9,
      "metadata": {
        "pycharm": {}
      },
      "outputs": [
        {
          "data": {
            "text/html": [
              "\u003cdiv\u003e\n",
              "\u003cstyle scoped\u003e\n",
              "    .dataframe tbody tr th:only-of-type {\n",
              "        vertical-align: middle;\n",
              "    }\n",
              "\n",
              "    .dataframe tbody tr th {\n",
              "        vertical-align: top;\n",
              "    }\n",
              "\n",
              "    .dataframe thead th {\n",
              "        text-align: right;\n",
              "    }\n",
              "\u003c/style\u003e\n",
              "\u003ctable border\u003d\"1\" class\u003d\"dataframe\"\u003e\n",
              "  \u003cthead\u003e\n",
              "    \u003ctr style\u003d\"text-align: right;\"\u003e\n",
              "      \u003cth\u003e\u003c/th\u003e\n",
              "      \u003cth\u003ebatch\u003c/th\u003e\n",
              "      \u003cth\u003ebatches\u003c/th\u003e\n",
              "      \u003cth\u003ecommittedOperations\u003c/th\u003e\n",
              "      \u003cth\u003eerrorMessages\u003c/th\u003e\n",
              "      \u003cth\u003efailedBatches\u003c/th\u003e\n",
              "      \u003cth\u003efailedOperations\u003c/th\u003e\n",
              "      \u003cth\u003efailedParams\u003c/th\u003e\n",
              "      \u003cth\u003eoperations\u003c/th\u003e\n",
              "      \u003cth\u003eretries\u003c/th\u003e\n",
              "      \u003cth\u003etimeTaken\u003c/th\u003e\n",
              "      \u003cth\u003etotal\u003c/th\u003e\n",
              "      \u003cth\u003ewasTerminated\u003c/th\u003e\n",
              "    \u003c/tr\u003e\n",
              "  \u003c/thead\u003e\n",
              "  \u003ctbody\u003e\n",
              "    \u003ctr\u003e\n",
              "      \u003cth\u003e0\u003c/th\u003e\n",
              "      \u003ctd\u003e{\u0027failed\u0027: 0, \u0027committed\u0027: 52, \u0027total\u0027: 52, \u0027e...\u003c/td\u003e\n",
              "      \u003ctd\u003e52\u003c/td\u003e\n",
              "      \u003ctd\u003e51956\u003c/td\u003e\n",
              "      \u003ctd\u003e{}\u003c/td\u003e\n",
              "      \u003ctd\u003e0\u003c/td\u003e\n",
              "      \u003ctd\u003e0\u003c/td\u003e\n",
              "      \u003ctd\u003e{}\u003c/td\u003e\n",
              "      \u003ctd\u003e{\u0027failed\u0027: 0, \u0027committed\u0027: 51956, \u0027total\u0027: 519...\u003c/td\u003e\n",
              "      \u003ctd\u003e0\u003c/td\u003e\n",
              "      \u003ctd\u003e57\u003c/td\u003e\n",
              "      \u003ctd\u003e51956\u003c/td\u003e\n",
              "      \u003ctd\u003eFalse\u003c/td\u003e\n",
              "    \u003c/tr\u003e\n",
              "  \u003c/tbody\u003e\n",
              "\u003c/table\u003e\n",
              "\u003c/div\u003e"
            ],
            "text/plain": [
              "                                               batch  batches  \\\n",
              "0  {\u0027failed\u0027: 0, \u0027committed\u0027: 52, \u0027total\u0027: 52, \u0027e...       52   \n",
              "\n",
              "   committedOperations errorMessages  failedBatches  failedOperations  \\\n",
              "0                51956            {}              0                 0   \n",
              "\n",
              "  failedParams                                         operations  retries  \\\n",
              "0           {}  {\u0027failed\u0027: 0, \u0027committed\u0027: 51956, \u0027total\u0027: 519...        0   \n",
              "\n",
              "   timeTaken  total  wasTerminated  \n",
              "0         57  51956          False  "
            ]
          },
          "execution_count": 9,
          "metadata": {},
          "output_type": "execute_result"
        }
      ],
      "source": [
        "query \u003d \"\"\"\n",
        "CALL apoc.periodic.iterate(\n",
        "  \u0027UNWIND [\"dblp-ref-0.json\", \"dblp-ref-1.json\", \"dblp-ref-2.json\", \"dblp-ref-3.json\"] AS file\n",
        "   CALL apoc.load.json(\"https://github.com/neo4j-contrib/training-v3/raw/master/modules/gds-data-science/supplemental/data/\" + file)\n",
        "   YIELD value WITH value\n",
        "   return value\u0027,\n",
        "  \u0027MERGE (a:Article {index:value.id})\n",
        "   SET a +\u003d apoc.map.clean(value,[\"id\",\"authors\",\"references\", \"venue\"],[0])\n",
        "   WITH a, value.authors as authors, value.references AS citations, value.venue AS venue\n",
        "   MERGE (v:Venue {name: venue})\n",
        "   MERGE (a)-[:VENUE]-\u003e(v)\n",
        "   FOREACH(author in authors | \n",
        "     MERGE (b:Author{name:author})\n",
        "     MERGE (a)-[:AUTHOR]-\u003e(b))\n",
        "   FOREACH(citation in citations | \n",
        "     MERGE (cited:Article {index:citation})\n",
        "     MERGE (a)-[:CITED]-\u003e(cited))\u0027, \n",
        "   {batchSize: 1000, iterateList: true});\n",
        "\"\"\"\n",
        "graph.run(query).to_data_frame()"
      ]
    },
    {
      "cell_type": "code",
      "execution_count": 17,
      "metadata": {
        "pycharm": {}
      },
      "outputs": [
        {
          "data": {
            "text/plain": [
              "constraints_added: 0\n",
              "constraints_removed: 0\n",
              "contains_updates: False\n",
              "indexes_added: 0\n",
              "indexes_removed: 0\n",
              "labels_added: 0\n",
              "labels_removed: 0\n",
              "nodes_created: 0\n",
              "nodes_deleted: 0\n",
              "properties_set: 0\n",
              "relationships_created: 0\n",
              "relationships_deleted: 0"
            ]
          },
          "execution_count": 17,
          "metadata": {},
          "output_type": "execute_result"
        }
      ],
      "source": [
        "query \u003d \"\"\"\n",
        "MATCH (a:Article) WHERE not(exists(a.title))\n",
        "DETACH DELETE a\n",
        "\"\"\"\n",
        "graph.run(query).stats()"
      ]
    },
    {
      "cell_type": "markdown",
      "metadata": {
        "pycharm": {}
      },
      "source": "In the next notebook you will explore the data that you have imported. "
    }
  ],
  "metadata": {
    "kernelspec": {
      "display_name": "Python 3",
      "language": "python",
      "name": "python3"
    },
    "language_info": {
      "codemirror_mode": {
        "name": "ipython",
        "version": 3
      },
      "file_extension": ".py",
      "mimetype": "text/x-python",
      "name": "python",
      "nbconvert_exporter": "python",
      "pygments_lexer": "ipython3",
      "version": "3.5.2"
    }
  },
  "nbformat": 4,
  "nbformat_minor": 2
}